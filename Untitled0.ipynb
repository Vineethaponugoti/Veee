{
  "nbformat": 4,
  "nbformat_minor": 0,
  "metadata": {
    "colab": {
      "provenance": []
    },
    "kernelspec": {
      "name": "python3",
      "display_name": "Python 3"
    },
    "language_info": {
      "name": "python"
    }
  },
  "cells": [
    {
      "cell_type": "code",
      "execution_count": null,
      "metadata": {
        "id": "VQqv--S1dxAI"
      },
      "outputs": [],
      "source": []
    },
    {
      "cell_type": "markdown",
      "source": [
        " Create a class Employee and then do the following:\n",
        "\n",
        " Create a data member to count the number of Employees?\n",
        "\n"
      ],
      "metadata": {
        "id": "lWSGqgq2d0Uz"
      }
    },
    {
      "cell_type": "code",
      "source": [
        "class Employee:\n",
        "    employee_count = 0\n",
        "    total_salary = 0\n",
        "\n",
        "    def __init__(self, name, family, salary, department):\n",
        "        self.name = name\n",
        "        self.family = family\n",
        "        self.salary = salary\n",
        "        self.department = department\n",
        "        Employee.employee_count += 1\n",
        "        Employee.total_salary += salary\n",
        "\n",
        "    def __del__(self):\n",
        "        Employee.employee_count -= 1\n",
        "        Employee.total_salary -= self.salary\n",
        "\n",
        "    @classmethod\n",
        "    def average_salary(cls):\n",
        "        if cls.employee_count == 0:\n",
        "            return 0\n",
        "        return cls.total_salary / cls.employee_count\n",
        "\n",
        "    @classmethod\n",
        "    def get_employee_count(cls):\n",
        "        return cls.employee_count\n",
        "\n",
        "class FulltimeEmployee(Employee):\n",
        "    def __init__(self, name, family, salary, department, benefits):\n",
        "        super().__init__(name, family, salary, department)\n",
        "        self.benefits = benefits\n",
        "\n",
        "    def display_info(self):\n",
        "        return (f\"FulltimeEmployee(name={self.name}, family={self.family}, \"\n",
        "                f\"salary={self.salary}, department={self.department}, benefits={self.benefits})\")\n",
        "\n",
        "emp1 = Employee(\"Alice\", \"Smith\", 50000, \"Engineering\")\n",
        "emp2 = Employee(\"Bob\", \"Johnson\", 60000, \"Marketing\")\n",
        "fulltime_emp1 = FulltimeEmployee(\"Charlie\", \"Brown\", 70000, \"Finance\", \"Health Insurance\")\n",
        "\n",
        "\n",
        "print(f\"Total number of employees: {Employee.get_employee_count()}\")\n",
        "print(f\"Average salary: {Employee.average_salary()}\")\n",
        "\n",
        "print(fulltime_emp1.display_info())\n",
        "\n",
        "emp3 = Employee(\"Diana\", \"Lee\", 55000, \"HR\")\n",
        "print(f\"Total number of employees: {Employee.get_employee_count()}\")\n",
        "print(f\"Average salary: {Employee.average_salary()}\")\n",
        "\n",
        "del emp1\n",
        "del emp2\n",
        "del emp3\n",
        "del fulltime_emp1\n",
        "\n",
        "print(f\"Total number of employees after deletion: {Employee.get_employee_count()}\")\n",
        "\n"
      ],
      "metadata": {
        "colab": {
          "base_uri": "https://localhost:8080/"
        },
        "id": "RFh0uFDieY6U",
        "outputId": "a138fffc-370f-470a-f74d-22e500a1547f"
      },
      "execution_count": 2,
      "outputs": [
        {
          "output_type": "stream",
          "name": "stdout",
          "text": [
            "Total number of employees: 3\n",
            "Average salary: 60000.0\n",
            "FulltimeEmployee(name=Charlie, family=Brown, salary=70000, department=Finance, benefits=Health Insurance)\n",
            "Total number of employees: 4\n",
            "Average salary: 58750.0\n",
            "Total number of employees after deletion: 0\n"
          ]
        }
      ]
    },
    {
      "cell_type": "code",
      "source": [
        "import numpy as np\n",
        "\n",
        "\n",
        "vector = np.random.uniform(1, 20, 20)\n",
        "matrix = vector.reshape(4, 5)\n",
        "max_indices = np.argmax(matrix, axis=1)\n",
        "\n",
        "matrix[np.arange(matrix.shape[0]), max_indices] = 0\n",
        "\n",
        "print(\"Original Matrix:\\n\", vector.reshape(4, 5))\n",
        "print(\"Matrix after replacing max values with 0:\\n\", matrix)\n"
      ],
      "metadata": {
        "colab": {
          "base_uri": "https://localhost:8080/"
        },
        "id": "XHAWi7UFiEMa",
        "outputId": "9a31a77a-a2b8-479f-beba-e65a0c3d62b5"
      },
      "execution_count": 3,
      "outputs": [
        {
          "output_type": "stream",
          "name": "stdout",
          "text": [
            "Original Matrix:\n",
            " [[ 1.10206643  5.1489804   3.28961549  0.          1.79599289]\n",
            " [ 2.50125539  0.         15.92930898 11.14427944 11.6236997 ]\n",
            " [ 0.          7.48474475  7.82748517  6.17354166  3.34674571]\n",
            " [ 8.82999056  5.89766571  9.60962955  0.          3.66413571]]\n",
            "Matrix after replacing max values with 0:\n",
            " [[ 1.10206643  5.1489804   3.28961549  0.          1.79599289]\n",
            " [ 2.50125539  0.         15.92930898 11.14427944 11.6236997 ]\n",
            " [ 0.          7.48474475  7.82748517  6.17354166  3.34674571]\n",
            " [ 8.82999056  5.89766571  9.60962955  0.          3.66413571]]\n"
          ]
        }
      ]
    }
  ]
}